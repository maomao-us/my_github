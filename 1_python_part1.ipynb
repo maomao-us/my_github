{
 "cells": [
  {
   "cell_type": "markdown",
   "metadata": {
    "id": "buypAvGdR7IN"
   },
   "source": [
    "# Pythonの基本"
   ]
  },
  {
   "cell_type": "code",
   "execution_count": null,
   "metadata": {
    "id": "L8DImGbLR7IP",
    "outputId": "86e91540-b9c7-4b7c-d429-704a1e46102e"
   },
   "outputs": [],
   "source": [
    "# 演算\n",
    "x=1\n",
    "y=1/3\n",
    "x+y"
   ]
  },
  {
   "cell_type": "code",
   "execution_count": null,
   "metadata": {
    "id": "Ns3nCjuSR7IV",
    "outputId": "d5f330d1-0522-4c42-996b-7f52035aa930"
   },
   "outputs": [],
   "source": [
    "Data_1 = 1 / 5\n",
    "Data_2 = 3 / 5\n",
    "Data_1 + Data_2"
   ]
  },
  {
   "cell_type": "code",
   "execution_count": null,
   "metadata": {
    "id": "3p1x4ZS2R7IZ",
    "outputId": "27d5fbd1-b7a6-4320-8127-03c4c9c3eb9c",
    "scrolled": true
   },
   "outputs": [],
   "source": [
    "# int型\n",
    "a = 1\n",
    "type(a)"
   ]
  },
  {
   "cell_type": "code",
   "execution_count": null,
   "metadata": {
    "id": "6lu3JrJ3R7Ig",
    "outputId": "65eee922-486f-4a70-8459-81e25099a9db"
   },
   "outputs": [],
   "source": [
    "# float型\n",
    "a = 1.6\n",
    "type(a)"
   ]
  },
  {
   "cell_type": "code",
   "execution_count": null,
   "metadata": {
    "id": "az6dSiEER7Ij",
    "outputId": "acb530f3-6314-48ae-d231-2ec269a1def6"
   },
   "outputs": [],
   "source": [
    "# str型\n",
    "a = \"machine\"\n",
    "b = 'ab'\n",
    "type(a)"
   ]
  },
  {
   "cell_type": "code",
   "execution_count": null,
   "metadata": {
    "id": "ec3SbmXVR7In",
    "outputId": "5bd54517-0197-44fb-8fc5-20fdcac35569"
   },
   "outputs": [],
   "source": [
    "# bool型(真偽)\n",
    "a = True\n",
    "b = False\n",
    "type(a)"
   ]
  },
  {
   "cell_type": "code",
   "execution_count": null,
   "metadata": {
    "id": "l49SE3wUR7Ir",
    "outputId": "d8dbdd4f-fb90-4258-e5e7-5e04df73fb2d"
   },
   "outputs": [],
   "source": [
    "# list型 リスト（配列）\n",
    "a=[1, 2, 3]\n",
    "type(a)"
   ]
  },
  {
   "cell_type": "code",
   "execution_count": null,
   "metadata": {
    "id": "f9hkfGnPR7Iv",
    "outputId": "04458678-a37f-44fd-a345-9febae400a71"
   },
   "outputs": [],
   "source": [
    "# tuple型 配列（変更不可）\n",
    "a = (1, 2, 3)\n",
    "b=(2,)\n",
    "type(a)"
   ]
  },
  {
   "cell_type": "markdown",
   "metadata": {
    "id": "AVUZDV6FR7I7"
   },
   "source": [
    "# print"
   ]
  },
  {
   "cell_type": "code",
   "execution_count": null,
   "metadata": {
    "id": "a0XyQjLkR7I8",
    "outputId": "a36175b5-0a97-4210-bc50-d9b4ad5b579b"
   },
   "outputs": [],
   "source": [
    "x=1/3\n",
    "y=2/3"
   ]
  },
  {
   "cell_type": "code",
   "execution_count": null,
   "metadata": {},
   "outputs": [],
   "source": [
    "print(x)\n",
    "print(y)"
   ]
  },
  {
   "cell_type": "code",
   "execution_count": null,
   "metadata": {},
   "outputs": [],
   "source": [
    "x"
   ]
  },
  {
   "cell_type": "code",
   "execution_count": null,
   "metadata": {},
   "outputs": [],
   "source": [
    "y"
   ]
  },
  {
   "cell_type": "code",
   "execution_count": null,
   "metadata": {
    "id": "8PcfvKjdR7JG",
    "outputId": "57e89bfc-d6d2-4996-c405-0786968ed828"
   },
   "outputs": [],
   "source": [
    "print('weight = {0} kg'.format(x))\n",
    "print('weight = {0} kg, {1} kg'.format(x,y))\n",
    "print('weight = {0:.2f} kg, {1:.2f} kg'.format(x,y))"
   ]
  },
  {
   "cell_type": "markdown",
   "metadata": {
    "id": "hayztJNbR7JI"
   },
   "source": [
    "# list"
   ]
  },
  {
   "cell_type": "code",
   "execution_count": null,
   "metadata": {
    "id": "ix7VQjhTR7JJ",
    "outputId": "a337bef9-d092-4409-9e9a-a328ca5bebcd"
   },
   "outputs": [],
   "source": [
    "x=[1, 1, 2, 3, 5]\n",
    "print(x)\n",
    "print(x[0])\n",
    "print(x[2])\n",
    "print(type(x))\n",
    "print(type(x[0]))"
   ]
  },
  {
   "cell_type": "code",
   "execution_count": null,
   "metadata": {
    "id": "k8tqoGJuR7JL",
    "outputId": "96d12cc2-402a-4e9e-8adf-66ec1c764ff5"
   },
   "outputs": [],
   "source": [
    "s=['SUN', 1, 'MON', 2]\n",
    "print(type(s[0]))\n",
    "print(type(s[1]))"
   ]
  },
  {
   "cell_type": "code",
   "execution_count": null,
   "metadata": {
    "id": "9H8K1Nz4R7JP",
    "outputId": "824b7dc5-9fc5-43f5-8b12-172c0ce6e62e"
   },
   "outputs": [],
   "source": [
    "[1, 2]+[3, 4]"
   ]
  },
  {
   "cell_type": "code",
   "execution_count": null,
   "metadata": {},
   "outputs": [],
   "source": [
    "# リストへの代入\n",
    "x=[1, 1, 2, 3, 5]\n",
    "x[3]=100\n",
    "print(x)"
   ]
  },
  {
   "cell_type": "code",
   "execution_count": null,
   "metadata": {},
   "outputs": [],
   "source": [
    "# リストの長さ\n",
    "x=[1, 1, 2, 3, 5]\n",
    "len(x)"
   ]
  },
  {
   "cell_type": "code",
   "execution_count": null,
   "metadata": {},
   "outputs": [],
   "source": [
    "# 連続値リストの作成\n",
    "y = range(5, 10)\n",
    "y = list(y)\n",
    "print(y)"
   ]
  },
  {
   "cell_type": "code",
   "execution_count": null,
   "metadata": {
    "id": "6hb-DDGYR7JT",
    "outputId": "bdcc2a22-158d-4a6b-c3eb-ef22281f8b33"
   },
   "outputs": [],
   "source": [
    "# 2次元のリスト\n",
    "a=[[1, 2, 3], [4, 5, 6]]\n",
    "print(a)\n",
    "print(a[0][1])\n",
    "print(a[1])"
   ]
  },
  {
   "cell_type": "markdown",
   "metadata": {
    "id": "9zMa6ZnlR7J3"
   },
   "source": [
    "# if文"
   ]
  },
  {
   "cell_type": "code",
   "execution_count": null,
   "metadata": {
    "id": "LYx6jEtnR7J3",
    "outputId": "b7eaed37-c07b-459a-d4fa-4e88c5bd816e"
   },
   "outputs": [],
   "source": [
    "#x=11\n",
    "x=10\n",
    "\n",
    "if x > 10:        \n",
    "    print('x is ') #(コメントA)\n",
    "    print('larger than 10.') #(コメントB)    \n",
    "else:\n",
    "    print('x is   smaller than  11.') #(コメントC)"
   ]
  },
  {
   "cell_type": "code",
   "execution_count": null,
   "metadata": {
    "id": "5_R_QaRDR7J6",
    "outputId": "3cbd178f-9afe-422a-e529-1f62b52b970a"
   },
   "outputs": [],
   "source": [
    "# 比較演算子\n",
    "x=30\n",
    "if 10 <= x and x <= 20:\n",
    "    print('x is a number between 10 and 20.')"
   ]
  },
  {
   "cell_type": "markdown",
   "metadata": {
    "id": "UWUvNBIQR7J9"
   },
   "source": [
    "# for文"
   ]
  },
  {
   "cell_type": "code",
   "execution_count": null,
   "metadata": {},
   "outputs": [],
   "source": [
    "num = [2, 4, 6, 8, 10]\n",
    "for item in num:\n",
    "    print(item)"
   ]
  },
  {
   "cell_type": "code",
   "execution_count": null,
   "metadata": {},
   "outputs": [],
   "source": [
    "num = [2, 4, 6, 8, 10]\n",
    "for i, item in enumerate(num):\n",
    "    print(i, \"回目:\", item)"
   ]
  },
  {
   "cell_type": "code",
   "execution_count": null,
   "metadata": {
    "id": "isOS9OTpR7KB",
    "outputId": "e778d853-f670-4b25-bb8e-665079cb648f"
   },
   "outputs": [],
   "source": [
    "num = [2, 4, 6, 8, 10]\n",
    "for i, item in enumerate(num):\n",
    "    num[i] = item * 2\n",
    "    print(i)\n",
    "    \n",
    "print(num)"
   ]
  },
  {
   "cell_type": "markdown",
   "metadata": {
    "id": "AsvECYPwR7Lh"
   },
   "source": [
    "# 関数"
   ]
  },
  {
   "cell_type": "code",
   "execution_count": null,
   "metadata": {
    "id": "TGgaqqn1R7Li"
   },
   "outputs": [],
   "source": [
    "#関数を定義する。\n",
    "def my_func1():\n",
    "    print('Ichimura!')"
   ]
  },
  {
   "cell_type": "code",
   "execution_count": null,
   "metadata": {
    "id": "-dKAOSbmR7Ln",
    "outputId": "a861bb91-97a4-4c25-e743-662fb6342d34"
   },
   "outputs": [],
   "source": [
    "my_func1()"
   ]
  },
  {
   "cell_type": "code",
   "execution_count": null,
   "metadata": {
    "id": "Ssp_bM0RR7Lp"
   },
   "outputs": [],
   "source": [
    "# 2引数の関数を定義する。\n",
    "def my_func2(a, b):\n",
    "    c=a+b\n",
    "    return c"
   ]
  },
  {
   "cell_type": "code",
   "execution_count": null,
   "metadata": {
    "id": "FmVaGlhwR7Lr",
    "outputId": "9be75764-d34b-4708-9cf3-8ce0625f922e"
   },
   "outputs": [],
   "source": [
    "my_func2(1, 2)"
   ]
  },
  {
   "cell_type": "code",
   "execution_count": null,
   "metadata": {},
   "outputs": [],
   "source": [
    "my_func2(100, 50)"
   ]
  },
  {
   "cell_type": "code",
   "execution_count": null,
   "metadata": {},
   "outputs": [],
   "source": [
    "dddd = 10"
   ]
  },
  {
   "cell_type": "code",
   "execution_count": null,
   "metadata": {},
   "outputs": [],
   "source": [
    "print(dddd)"
   ]
  },
  {
   "cell_type": "code",
   "execution_count": null,
   "metadata": {},
   "outputs": [],
   "source": []
  }
 ],
 "metadata": {
  "colab": {
   "authorship_tag": "ABX9TyNctfxXadxS0ojaMabMMx1W",
   "collapsed_sections": [
    "AVUZDV6FR7I7",
    "nRqEwF6jR7Jl",
    "9zMa6ZnlR7J3"
   ],
   "name": "1_1_python.ipynb",
   "provenance": []
  },
  "kernelspec": {
   "display_name": "Python 3",
   "language": "python",
   "name": "python3"
  },
  "language_info": {
   "codemirror_mode": {
    "name": "ipython",
    "version": 3
   },
   "file_extension": ".py",
   "mimetype": "text/x-python",
   "name": "python",
   "nbconvert_exporter": "python",
   "pygments_lexer": "ipython3",
   "version": "3.6.10"
  }
 },
 "nbformat": 4,
 "nbformat_minor": 1
}
